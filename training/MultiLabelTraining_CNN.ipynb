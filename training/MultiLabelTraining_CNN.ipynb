{
 "cells": [
  {
   "cell_type": "code",
   "execution_count": 27,
   "metadata": {},
   "outputs": [],
   "source": [
    "# Import libraries\n",
    "\n",
    "# Data handling\n",
    "import pandas as pd\n",
    "import numpy as np\n",
    "\n",
    "# Data pre-processing\n",
    "from ast import literal_eval\n",
    "from sklearn.preprocessing import MultiLabelBinarizer\n",
    "from keras.preprocessing.text import Tokenizer\n",
    "from keras.preprocessing import text, sequence\n",
    "from keras_preprocessing.sequence import pad_sequences\n",
    "\n",
    "# Model\n",
    "from sklearn.model_selection import train_test_split\n",
    "from keras.models import Sequential, Model\n",
    "from keras.layers import Dense, Activation, Embedding, Flatten, GlobalMaxPool1D, Conv1D, Input\n",
    "from keras.layers import LSTM, Bidirectional, GlobalMaxPool1D, Dropout\n",
    "from keras.callbacks import EarlyStopping, ModelCheckpoint, ReduceLROnPlateau\n",
    "from keras.losses import binary_crossentropy\n",
    "from keras.optimizers import Adam\n",
    "import tensorflow as tf\n",
    "from sklearn.metrics import label_ranking_average_precision_score, label_ranking_loss, average_precision_score\n",
    "\n",
    "# To save model\n",
    "import joblib"
   ]
  },
  {
   "cell_type": "code",
   "execution_count": 4,
   "metadata": {},
   "outputs": [],
   "source": [
    "# Load preprocessed dataset\n",
    "file_path = \"../data/preprocessed_data.csv\"\n",
    "df = pd.read_csv(file_path)"
   ]
  },
  {
   "cell_type": "code",
   "execution_count": 5,
   "metadata": {},
   "outputs": [
    {
     "data": {
      "text/html": [
       "<div>\n",
       "<style scoped>\n",
       "    .dataframe tbody tr th:only-of-type {\n",
       "        vertical-align: middle;\n",
       "    }\n",
       "\n",
       "    .dataframe tbody tr th {\n",
       "        vertical-align: top;\n",
       "    }\n",
       "\n",
       "    .dataframe thead th {\n",
       "        text-align: right;\n",
       "    }\n",
       "</style>\n",
       "<table border=\"1\" class=\"dataframe\">\n",
       "  <thead>\n",
       "    <tr style=\"text-align: right;\">\n",
       "      <th></th>\n",
       "      <th>tag</th>\n",
       "      <th>sentence</th>\n",
       "    </tr>\n",
       "  </thead>\n",
       "  <tbody>\n",
       "    <tr>\n",
       "      <th>0</th>\n",
       "      <td>['obligation']</td>\n",
       "      <td>we will issue a certificate of completion for each manager trainee who completes the initial training program we require to our satisfaction each such person will be referred to a a certified manager</td>\n",
       "    </tr>\n",
       "    <tr>\n",
       "      <th>1</th>\n",
       "      <td>['obligation']</td>\n",
       "      <td>elephant talk bear the risk of and shall indemnify against high usage fraud and bed of it elephant talk customer</td>\n",
       "    </tr>\n",
       "    <tr>\n",
       "      <th>2</th>\n",
       "      <td>['obligation']</td>\n",
       "      <td>subject to the term and condition of this agreement aimmune shall be responsible for the development of the product a set forth herein aimmune itself or with or through it affiliate and sublicensees shall use commercially reasonable effort to perform the development activity for the product to i achieve the development milestone set forth in section and ii obtain regulatory approval for the product</td>\n",
       "    </tr>\n",
       "    <tr>\n",
       "      <th>3</th>\n",
       "      <td>['obligation']</td>\n",
       "      <td>ediets shall ensure that the ediets content complies with editorial guideline</td>\n",
       "    </tr>\n",
       "    <tr>\n",
       "      <th>4</th>\n",
       "      <td>['obligation']</td>\n",
       "      <td>auriemma will participate in one recording session annually during the service period of not more than two hour not including travel time to record a radio advertising spot at a date and location to be mutually agreed upon</td>\n",
       "    </tr>\n",
       "  </tbody>\n",
       "</table>\n",
       "</div>"
      ],
      "text/plain": [
       "              tag  \\\n",
       "0  ['obligation']   \n",
       "1  ['obligation']   \n",
       "2  ['obligation']   \n",
       "3  ['obligation']   \n",
       "4  ['obligation']   \n",
       "\n",
       "                                                                                                                                                                                                                                                                                                                                                                                                            sentence  \n",
       "0                                                                                                                                                                                                            we will issue a certificate of completion for each manager trainee who completes the initial training program we require to our satisfaction each such person will be referred to a a certified manager  \n",
       "1                                                                                                                                                                                                                                                                                                   elephant talk bear the risk of and shall indemnify against high usage fraud and bed of it elephant talk customer  \n",
       "2  subject to the term and condition of this agreement aimmune shall be responsible for the development of the product a set forth herein aimmune itself or with or through it affiliate and sublicensees shall use commercially reasonable effort to perform the development activity for the product to i achieve the development milestone set forth in section and ii obtain regulatory approval for the product  \n",
       "3                                                                                                                                                                                                                                                                                                                                      ediets shall ensure that the ediets content complies with editorial guideline  \n",
       "4                                                                                                                                                                                     auriemma will participate in one recording session annually during the service period of not more than two hour not including travel time to record a radio advertising spot at a date and location to be mutually agreed upon  "
      ]
     },
     "execution_count": 5,
     "metadata": {},
     "output_type": "execute_result"
    }
   ],
   "source": [
    "# Preview data head and extend the max column width\n",
    "pd.set_option('display.max_colwidth', None)\n",
    "df.head()"
   ]
  },
  {
   "cell_type": "code",
   "execution_count": 6,
   "metadata": {},
   "outputs": [],
   "source": [
    "# Convert tags from strings to lists\n",
    "df['tag'] = df['tag'].apply(lambda x: literal_eval(x))"
   ]
  },
  {
   "cell_type": "code",
   "execution_count": 7,
   "metadata": {},
   "outputs": [
    {
     "data": {
      "text/plain": [
       "array([[1, 0, 0],\n",
       "       [1, 0, 0],\n",
       "       [1, 0, 0],\n",
       "       ...,\n",
       "       [0, 1, 0],\n",
       "       [0, 0, 1],\n",
       "       [0, 0, 1]])"
      ]
     },
     "execution_count": 7,
     "metadata": {},
     "output_type": "execute_result"
    }
   ],
   "source": [
    "# Encode tags 'y'\n",
    "y = df['tag']\n",
    "multilabel = MultiLabelBinarizer()\n",
    "y = multilabel.fit_transform(y)\n",
    "y"
   ]
  },
  {
   "cell_type": "code",
   "execution_count": 8,
   "metadata": {},
   "outputs": [],
   "source": [
    "# Standard keras pre-processing\n",
    "maxlen = 200 # Highest word count is 691 and mean is 52; however, 691 is an outlier\n",
    "max_words = 2000\n",
    "tokenizer = Tokenizer(num_words=max_words, lower=True)\n",
    "tokenizer.fit_on_texts(df.sentence)\n",
    "\n",
    "# Functions to transform text to feature_vectors \n",
    "def get_features(text_series):\n",
    "    sequences = tokenizer.texts_to_sequences(text_series)\n",
    "    return pad_sequences(sequences, maxlen=maxlen)"
   ]
  },
  {
   "cell_type": "code",
   "execution_count": 9,
   "metadata": {},
   "outputs": [
    {
     "name": "stdout",
     "output_type": "stream",
     "text": [
      "(947, 200) (947, 3)\n"
     ]
    }
   ],
   "source": [
    "# Call function to create features 'X'\n",
    "X = get_features(df.sentence)\n",
    "\n",
    "# Transform y\n",
    "y = multilabel.transform(df.tag)\n",
    "\n",
    "print(X.shape, y.shape)"
   ]
  },
  {
   "cell_type": "code",
   "execution_count": 10,
   "metadata": {},
   "outputs": [
    {
     "data": {
      "text/plain": [
       "array([[  0,   0,   0, ...,   8, 577, 372],\n",
       "       [  0,   0,   0, ..., 105, 106, 109],\n",
       "       [  0,   0,   0, ...,  19,   1,  31],\n",
       "       ...,\n",
       "       [  0,   0,   0, ...,  14,  11,  37],\n",
       "       [  0,   0,   0, ...,   1,  12,   9],\n",
       "       [  0,   0,   0, ..., 276,   5, 238]], dtype=int32)"
      ]
     },
     "execution_count": 10,
     "metadata": {},
     "output_type": "execute_result"
    }
   ],
   "source": [
    "X"
   ]
  },
  {
   "cell_type": "code",
   "execution_count": 11,
   "metadata": {},
   "outputs": [],
   "source": [
    "# Split data into training and testing sets\n",
    "X_train, X_test, y_train, y_test = train_test_split(X,y, test_size=0.2, random_state=0, shuffle=True, stratify=y)"
   ]
  },
  {
   "cell_type": "code",
   "execution_count": 12,
   "metadata": {},
   "outputs": [
    {
     "name": "stderr",
     "output_type": "stream",
     "text": [
      "2022-09-05 14:10:17.412148: I tensorflow/core/platform/cpu_feature_guard.cc:193] This TensorFlow binary is optimized with oneAPI Deep Neural Network Library (oneDNN) to use the following CPU instructions in performance-critical operations:  AVX2 FMA\n",
      "To enable them in other operations, rebuild TensorFlow with the appropriate compiler flags.\n"
     ]
    },
    {
     "name": "stdout",
     "output_type": "stream",
     "text": [
      "Model: \"sequential\"\n",
      "_________________________________________________________________\n",
      " Layer (type)                Output Shape              Param #   \n",
      "=================================================================\n",
      " embedding (Embedding)       (None, 200, 20)           40000     \n",
      "                                                                 \n",
      " dropout (Dropout)           (None, 200, 20)           0         \n",
      "                                                                 \n",
      " conv1d (Conv1D)             (None, 198, 300)          18300     \n",
      "                                                                 \n",
      " global_max_pooling1d (Globa  (None, 300)              0         \n",
      " lMaxPooling1D)                                                  \n",
      "                                                                 \n",
      " dense (Dense)               (None, 3)                 903       \n",
      "                                                                 \n",
      " activation (Activation)     (None, 3)                 0         \n",
      "                                                                 \n",
      "=================================================================\n",
      "Total params: 59,203\n",
      "Trainable params: 59,203\n",
      "Non-trainable params: 0\n",
      "_________________________________________________________________\n"
     ]
    }
   ],
   "source": [
    "# Modelling - Convolutional Neural Network\n",
    "\n",
    "filter_length = 300\n",
    "num_classes = 3 #so that the final layer is capable of outputting multiple labels\n",
    "\n",
    "model = Sequential()\n",
    "model.add(Embedding(max_words, 20, input_length=maxlen))\n",
    "model.add(Dropout(0.1))\n",
    "model.add(Conv1D(filter_length, 3, padding='valid', activation='relu', strides=1))\n",
    "model.add(GlobalMaxPool1D())\n",
    "model.add(Dense(num_classes))\n",
    "model.add(Activation('sigmoid'))\n",
    "\n",
    "model.compile(optimizer='adam', loss='binary_crossentropy', metrics=['categorical_accuracy'])\n",
    "model.summary()"
   ]
  },
  {
   "cell_type": "code",
   "execution_count": 13,
   "metadata": {},
   "outputs": [
    {
     "name": "stdout",
     "output_type": "stream",
     "text": [
      "Epoch 1/20\n",
      "24/24 [==============================] - ETA: 0s - loss: 0.6735 - categorical_accuracy: 0.3263WARNING:tensorflow:Learning rate reduction is conditioned on metric `val_loss` which is not available. Available metrics are: loss,categorical_accuracy,lr\n",
      "WARNING:tensorflow:Early stopping conditioned on metric `val_loss` which is not available. Available metrics are: loss,categorical_accuracy,lr\n",
      "24/24 [==============================] - 3s 46ms/step - loss: 0.6735 - categorical_accuracy: 0.3263 - lr: 0.0010\n",
      "Epoch 2/20\n",
      "24/24 [==============================] - ETA: 0s - loss: 0.6556 - categorical_accuracy: 0.4584WARNING:tensorflow:Learning rate reduction is conditioned on metric `val_loss` which is not available. Available metrics are: loss,categorical_accuracy,lr\n",
      "WARNING:tensorflow:Early stopping conditioned on metric `val_loss` which is not available. Available metrics are: loss,categorical_accuracy,lr\n",
      "24/24 [==============================] - 1s 36ms/step - loss: 0.6556 - categorical_accuracy: 0.4584 - lr: 0.0010\n",
      "Epoch 3/20\n",
      "22/24 [==========================>...] - ETA: 0s - loss: 0.6378 - categorical_accuracy: 0.4886WARNING:tensorflow:Learning rate reduction is conditioned on metric `val_loss` which is not available. Available metrics are: loss,categorical_accuracy,lr\n",
      "WARNING:tensorflow:Early stopping conditioned on metric `val_loss` which is not available. Available metrics are: loss,categorical_accuracy,lr\n",
      "24/24 [==============================] - 1s 33ms/step - loss: 0.6376 - categorical_accuracy: 0.4822 - lr: 0.0010\n",
      "Epoch 4/20\n",
      "24/24 [==============================] - ETA: 0s - loss: 0.5914 - categorical_accuracy: 0.6777WARNING:tensorflow:Learning rate reduction is conditioned on metric `val_loss` which is not available. Available metrics are: loss,categorical_accuracy,lr\n",
      "WARNING:tensorflow:Early stopping conditioned on metric `val_loss` which is not available. Available metrics are: loss,categorical_accuracy,lr\n",
      "24/24 [==============================] - 1s 32ms/step - loss: 0.5914 - categorical_accuracy: 0.6777 - lr: 0.0010\n",
      "Epoch 5/20\n",
      "24/24 [==============================] - ETA: 0s - loss: 0.5079 - categorical_accuracy: 0.7213WARNING:tensorflow:Learning rate reduction is conditioned on metric `val_loss` which is not available. Available metrics are: loss,categorical_accuracy,lr\n",
      "WARNING:tensorflow:Early stopping conditioned on metric `val_loss` which is not available. Available metrics are: loss,categorical_accuracy,lr\n",
      "24/24 [==============================] - 1s 35ms/step - loss: 0.5079 - categorical_accuracy: 0.7213 - lr: 0.0010\n",
      "Epoch 6/20\n",
      "23/24 [===========================>..] - ETA: 0s - loss: 0.4058 - categorical_accuracy: 0.7772WARNING:tensorflow:Learning rate reduction is conditioned on metric `val_loss` which is not available. Available metrics are: loss,categorical_accuracy,lr\n",
      "WARNING:tensorflow:Early stopping conditioned on metric `val_loss` which is not available. Available metrics are: loss,categorical_accuracy,lr\n",
      "24/24 [==============================] - 1s 40ms/step - loss: 0.4053 - categorical_accuracy: 0.7794 - lr: 0.0010\n",
      "Epoch 7/20\n",
      "23/24 [===========================>..] - ETA: 0s - loss: 0.2988 - categorical_accuracy: 0.8261WARNING:tensorflow:Learning rate reduction is conditioned on metric `val_loss` which is not available. Available metrics are: loss,categorical_accuracy,lr\n",
      "WARNING:tensorflow:Early stopping conditioned on metric `val_loss` which is not available. Available metrics are: loss,categorical_accuracy,lr\n",
      "24/24 [==============================] - 1s 38ms/step - loss: 0.2962 - categorical_accuracy: 0.8269 - lr: 0.0010\n",
      "Epoch 8/20\n",
      "24/24 [==============================] - ETA: 0s - loss: 0.2182 - categorical_accuracy: 0.8705WARNING:tensorflow:Learning rate reduction is conditioned on metric `val_loss` which is not available. Available metrics are: loss,categorical_accuracy,lr\n",
      "WARNING:tensorflow:Early stopping conditioned on metric `val_loss` which is not available. Available metrics are: loss,categorical_accuracy,lr\n",
      "24/24 [==============================] - 1s 35ms/step - loss: 0.2182 - categorical_accuracy: 0.8705 - lr: 0.0010\n",
      "Epoch 9/20\n",
      "23/24 [===========================>..] - ETA: 0s - loss: 0.1673 - categorical_accuracy: 0.8845WARNING:tensorflow:Learning rate reduction is conditioned on metric `val_loss` which is not available. Available metrics are: loss,categorical_accuracy,lr\n",
      "WARNING:tensorflow:Early stopping conditioned on metric `val_loss` which is not available. Available metrics are: loss,categorical_accuracy,lr\n",
      "24/24 [==============================] - 1s 33ms/step - loss: 0.1664 - categorical_accuracy: 0.8877 - lr: 0.0010\n",
      "Epoch 10/20\n",
      "24/24 [==============================] - ETA: 0s - loss: 0.1353 - categorical_accuracy: 0.9022WARNING:tensorflow:Learning rate reduction is conditioned on metric `val_loss` which is not available. Available metrics are: loss,categorical_accuracy,lr\n",
      "WARNING:tensorflow:Early stopping conditioned on metric `val_loss` which is not available. Available metrics are: loss,categorical_accuracy,lr\n",
      "24/24 [==============================] - 1s 33ms/step - loss: 0.1353 - categorical_accuracy: 0.9022 - lr: 0.0010\n",
      "Epoch 11/20\n",
      "23/24 [===========================>..] - ETA: 0s - loss: 0.1136 - categorical_accuracy: 0.9076WARNING:tensorflow:Learning rate reduction is conditioned on metric `val_loss` which is not available. Available metrics are: loss,categorical_accuracy,lr\n",
      "WARNING:tensorflow:Early stopping conditioned on metric `val_loss` which is not available. Available metrics are: loss,categorical_accuracy,lr\n",
      "24/24 [==============================] - 1s 47ms/step - loss: 0.1126 - categorical_accuracy: 0.9089 - lr: 0.0010\n",
      "Epoch 12/20\n",
      "23/24 [===========================>..] - ETA: 0s - loss: 0.0954 - categorical_accuracy: 0.9185WARNING:tensorflow:Learning rate reduction is conditioned on metric `val_loss` which is not available. Available metrics are: loss,categorical_accuracy,lr\n",
      "WARNING:tensorflow:Early stopping conditioned on metric `val_loss` which is not available. Available metrics are: loss,categorical_accuracy,lr\n",
      "24/24 [==============================] - 1s 33ms/step - loss: 0.0937 - categorical_accuracy: 0.9207 - lr: 0.0010\n",
      "Epoch 13/20\n",
      "24/24 [==============================] - ETA: 0s - loss: 0.0816 - categorical_accuracy: 0.9260WARNING:tensorflow:Learning rate reduction is conditioned on metric `val_loss` which is not available. Available metrics are: loss,categorical_accuracy,lr\n",
      "WARNING:tensorflow:Early stopping conditioned on metric `val_loss` which is not available. Available metrics are: loss,categorical_accuracy,lr\n",
      "24/24 [==============================] - 1s 54ms/step - loss: 0.0816 - categorical_accuracy: 0.9260 - lr: 0.0010\n",
      "Epoch 14/20\n",
      "24/24 [==============================] - ETA: 0s - loss: 0.0689 - categorical_accuracy: 0.9313WARNING:tensorflow:Learning rate reduction is conditioned on metric `val_loss` which is not available. Available metrics are: loss,categorical_accuracy,lr\n",
      "WARNING:tensorflow:Early stopping conditioned on metric `val_loss` which is not available. Available metrics are: loss,categorical_accuracy,lr\n",
      "24/24 [==============================] - 1s 34ms/step - loss: 0.0689 - categorical_accuracy: 0.9313 - lr: 0.0010\n",
      "Epoch 15/20\n",
      "23/24 [===========================>..] - ETA: 0s - loss: 0.0638 - categorical_accuracy: 0.9293WARNING:tensorflow:Learning rate reduction is conditioned on metric `val_loss` which is not available. Available metrics are: loss,categorical_accuracy,lr\n",
      "WARNING:tensorflow:Early stopping conditioned on metric `val_loss` which is not available. Available metrics are: loss,categorical_accuracy,lr\n",
      "24/24 [==============================] - 1s 34ms/step - loss: 0.0630 - categorical_accuracy: 0.9300 - lr: 0.0010\n",
      "Epoch 16/20\n",
      "23/24 [===========================>..] - ETA: 0s - loss: 0.0547 - categorical_accuracy: 0.9266WARNING:tensorflow:Learning rate reduction is conditioned on metric `val_loss` which is not available. Available metrics are: loss,categorical_accuracy,lr\n",
      "WARNING:tensorflow:Early stopping conditioned on metric `val_loss` which is not available. Available metrics are: loss,categorical_accuracy,lr\n",
      "24/24 [==============================] - 1s 35ms/step - loss: 0.0538 - categorical_accuracy: 0.9287 - lr: 0.0010\n",
      "Epoch 17/20\n",
      "23/24 [===========================>..] - ETA: 0s - loss: 0.0495 - categorical_accuracy: 0.9266WARNING:tensorflow:Learning rate reduction is conditioned on metric `val_loss` which is not available. Available metrics are: loss,categorical_accuracy,lr\n",
      "WARNING:tensorflow:Early stopping conditioned on metric `val_loss` which is not available. Available metrics are: loss,categorical_accuracy,lr\n",
      "24/24 [==============================] - 1s 33ms/step - loss: 0.0491 - categorical_accuracy: 0.9273 - lr: 0.0010\n",
      "Epoch 18/20\n",
      "23/24 [===========================>..] - ETA: 0s - loss: 0.0402 - categorical_accuracy: 0.9348WARNING:tensorflow:Learning rate reduction is conditioned on metric `val_loss` which is not available. Available metrics are: loss,categorical_accuracy,lr\n",
      "WARNING:tensorflow:Early stopping conditioned on metric `val_loss` which is not available. Available metrics are: loss,categorical_accuracy,lr\n",
      "24/24 [==============================] - 2s 64ms/step - loss: 0.0409 - categorical_accuracy: 0.9313 - lr: 0.0010\n",
      "Epoch 19/20\n",
      "23/24 [===========================>..] - ETA: 0s - loss: 0.0335 - categorical_accuracy: 0.9280WARNING:tensorflow:Learning rate reduction is conditioned on metric `val_loss` which is not available. Available metrics are: loss,categorical_accuracy,lr\n",
      "WARNING:tensorflow:Early stopping conditioned on metric `val_loss` which is not available. Available metrics are: loss,categorical_accuracy,lr\n",
      "24/24 [==============================] - 1s 39ms/step - loss: 0.0350 - categorical_accuracy: 0.9287 - lr: 0.0010\n",
      "Epoch 20/20\n",
      "24/24 [==============================] - ETA: 0s - loss: 0.0299 - categorical_accuracy: 0.9353WARNING:tensorflow:Learning rate reduction is conditioned on metric `val_loss` which is not available. Available metrics are: loss,categorical_accuracy,lr\n",
      "WARNING:tensorflow:Early stopping conditioned on metric `val_loss` which is not available. Available metrics are: loss,categorical_accuracy,lr\n",
      "24/24 [==============================] - 1s 36ms/step - loss: 0.0299 - categorical_accuracy: 0.9353 - lr: 0.0010\n"
     ]
    }
   ],
   "source": [
    "# Fit the model\n",
    "callbacks = [\n",
    "    ReduceLROnPlateau(), \n",
    "    EarlyStopping(patience=4)\n",
    "]\n",
    "\n",
    "history = model.fit(X_train, y_train,\n",
    "                    epochs=20,\n",
    "                    batch_size=32,\n",
    "                    callbacks=callbacks)"
   ]
  },
  {
   "cell_type": "code",
   "execution_count": 14,
   "metadata": {},
   "outputs": [
    {
     "name": "stdout",
     "output_type": "stream",
     "text": [
      "6/6 [==============================] - 0s 9ms/step - loss: 0.1600 - categorical_accuracy: 0.9000\n",
      "loss: 0.160002663731575\n",
      "categorical_accuracy: 0.8999999761581421\n"
     ]
    }
   ],
   "source": [
    "# Evaluation metrics\n",
    "metrics = model.evaluate(X_test, y_test)\n",
    "print(\"{}: {}\".format(model.metrics_names[0], metrics[0]))\n",
    "print(\"{}: {}\".format(model.metrics_names[1], metrics[1]))"
   ]
  },
  {
   "cell_type": "code",
   "execution_count": 29,
   "metadata": {},
   "outputs": [
    {
     "name": "stdout",
     "output_type": "stream",
     "text": [
      "6/6 [==============================] - 0s 16ms/step\n",
      "LRAP: 0.99\n",
      "Ranking Loss: 0.018\n",
      "Precision Score: 0.98\n"
     ]
    }
   ],
   "source": [
    "# Calculating loss and precision\n",
    "y_pred = model.predict(X_test)\n",
    "print(\"LRAP: {:.2}\".format(label_ranking_average_precision_score(y_test,y_pred)))\n",
    "print(\"Ranking Loss: {:.2}\".format(label_ranking_loss(y_test,y_pred)))\n",
    "print(\"Precision Score: {:.2}\".format(average_precision_score(y_test,y_pred)))"
   ]
  },
  {
   "cell_type": "code",
   "execution_count": 21,
   "metadata": {},
   "outputs": [
    {
     "name": "stdout",
     "output_type": "stream",
     "text": [
      "1/1 [==============================] - 0s 47ms/step\n",
      "[[0.7446333  0.00373924 0.9591122 ]]\n",
      "[('obligation', 'prohibition')]\n"
     ]
    }
   ],
   "source": [
    "# Prediction\n",
    "# x = [\"Each Party shall return to the other all of the other’s Confidential Information and any other material, information or samples relating to the Product which have been provided or made available to the other and shall not retain any copies and the Parties further agree not to make any further use of each other’s Confidential Information or any other information, data or samples relating to the Product provided or made available by the other Party, except as necessary to comply with its statutory, regulatory or licensing obligations; provided, however, that Kitov may retain such material, information and/or samples relating to the Product as may be necessary for Kitov to continue to sell the Product as permitted by Section ​5.4.4 below, following which, Kitov shall refrain from making any further use of Dexcel’s Confidential Information or any other information, data or samples and shall return any remaining Confidential Information and material, information or samples relating to the Product.\"]\n",
    "x = [\"The confidentiality obligations contained in this section XI shall not apply to the extent that the receiving Party (the 'Recipient') is required (a) to disclose information by law, order or regulation of a governmental agency or a court of competent jurisdiction , or (b) to disclose information to any governmental agency for purposes of obtaining approval to test or market a Product , provided in either case that the Recipient shall provide written notice thereof to the other Party and sufficient opportunity to object to any such disclosure or to request confidential treatment thereof.\"]\n",
    "xt = get_features(x)\n",
    "prediction = model.predict(xt)\n",
    "# probas = np.array(prediction)\n",
    "# labels = (probas > 0.5).astype(np.int)\n",
    "\n",
    "probas = (prediction > 0.5).astype(int)\n",
    "tags = multilabel.inverse_transform(probas)\n",
    "# tags = multilabel.inverse_transform(labels)\n",
    "\n",
    "print(prediction)\n",
    "# print(labels)\n",
    "print(tags)"
   ]
  },
  {
   "cell_type": "code",
   "execution_count": 22,
   "metadata": {},
   "outputs": [
    {
     "name": "stdout",
     "output_type": "stream",
     "text": [
      "OBLIGATION\n",
      "PROHIBITION\n"
     ]
    }
   ],
   "source": [
    "# print((tup[0] for tup in tags))\n",
    "# print('\\n'.join([tup[0] for tup in tags]))\n",
    "# print('\\n'.join([tup[0] for tup in tags]))\n",
    "print('\\n'.join(tags[0]).upper())\n"
   ]
  },
  {
   "cell_type": "code",
   "execution_count": 23,
   "metadata": {},
   "outputs": [
    {
     "name": "stdout",
     "output_type": "stream",
     "text": [
      "obligation prohibition\n"
     ]
    }
   ],
   "source": [
    "print(*tags[0], sep=' ')"
   ]
  },
  {
   "cell_type": "code",
   "execution_count": 24,
   "metadata": {},
   "outputs": [
    {
     "data": {
      "text/plain": [
       "['../models/MultiLabelTokenizer.pkl']"
      ]
     },
     "execution_count": 24,
     "metadata": {},
     "output_type": "execute_result"
    }
   ],
   "source": [
    "# Save tokenizer\n",
    "joblib.dump(tokenizer, '../models/MultiLabelTokenizer.pkl')"
   ]
  },
  {
   "cell_type": "code",
   "execution_count": 25,
   "metadata": {},
   "outputs": [
    {
     "data": {
      "text/plain": [
       "['../models/MultiLabelBinarizer_CNN.pkl']"
      ]
     },
     "execution_count": 25,
     "metadata": {},
     "output_type": "execute_result"
    }
   ],
   "source": [
    "# Save binarizer\n",
    "joblib.dump(multilabel, '../models/MultiLabelBinarizer_CNN.pkl')"
   ]
  },
  {
   "cell_type": "code",
   "execution_count": 26,
   "metadata": {},
   "outputs": [
    {
     "name": "stderr",
     "output_type": "stream",
     "text": [
      "WARNING:absl:Found untraced functions such as _jit_compiled_convolution_op while saving (showing 1 of 1). These functions will not be directly callable after loading.\n"
     ]
    },
    {
     "name": "stdout",
     "output_type": "stream",
     "text": [
      "INFO:tensorflow:Assets written to: ram://057771ea-9ee0-4559-b3bf-a69da92dcaf3/assets\n"
     ]
    },
    {
     "name": "stderr",
     "output_type": "stream",
     "text": [
      "INFO:tensorflow:Assets written to: ram://057771ea-9ee0-4559-b3bf-a69da92dcaf3/assets\n"
     ]
    },
    {
     "data": {
      "text/plain": [
       "['../models/MultiLabelModel_CNN.pkl']"
      ]
     },
     "execution_count": 26,
     "metadata": {},
     "output_type": "execute_result"
    }
   ],
   "source": [
    "# Save the model\n",
    "joblib.dump(model, '../models/MultiLabelModel_CNN.pkl')"
   ]
  }
 ],
 "metadata": {
  "kernelspec": {
   "display_name": "Python 3.8.0 64-bit",
   "language": "python",
   "name": "python3"
  },
  "language_info": {
   "codemirror_mode": {
    "name": "ipython",
    "version": 3
   },
   "file_extension": ".py",
   "mimetype": "text/x-python",
   "name": "python",
   "nbconvert_exporter": "python",
   "pygments_lexer": "ipython3",
   "version": "3.8.0"
  },
  "orig_nbformat": 4,
  "vscode": {
   "interpreter": {
    "hash": "aee8b7b246df8f9039afb4144a1f6fd8d2ca17a180786b69acc140d282b71a49"
   }
  }
 },
 "nbformat": 4,
 "nbformat_minor": 2
}
